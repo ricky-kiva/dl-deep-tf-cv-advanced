{
  "nbformat": 4,
  "nbformat_minor": 0,
  "metadata": {
    "colab": {
      "provenance": [],
      "authorship_tag": "ABX9TyOng3Yi7Gl7r8s6RBk+ZDOQ",
      "include_colab_link": true
    },
    "kernelspec": {
      "name": "python3",
      "display_name": "Python 3"
    },
    "language_info": {
      "name": "python"
    }
  },
  "cells": [
    {
      "cell_type": "markdown",
      "metadata": {
        "id": "view-in-github",
        "colab_type": "text"
      },
      "source": [
        "<a href=\"https://colab.research.google.com/github/ricky-kiva/dl-deep-tf-cv-advanced/blob/main/1_a1_bboxes_birds_caltech.ipynb\" target=\"_parent\"><img src=\"https://colab.research.google.com/assets/colab-badge.svg\" alt=\"Open In Colab\"/></a>"
      ]
    },
    {
      "cell_type": "markdown",
      "source": [
        "# **Object Localization on Caltech Birds**"
      ],
      "metadata": {
        "id": "dC4iv6ENwTga"
      }
    },
    {
      "cell_type": "markdown",
      "source": [
        "Connecting Google Drive"
      ],
      "metadata": {
        "id": "VN8Vskifyrhd"
      }
    },
    {
      "cell_type": "code",
      "source": [
        "from google.colab import drive\n",
        "drive.mount('/content/drive/', force_remount=True)"
      ],
      "metadata": {
        "id": "-uHGfl79zLIT"
      },
      "execution_count": null,
      "outputs": []
    },
    {
      "cell_type": "markdown",
      "source": [
        "Import packages"
      ],
      "metadata": {
        "id": "Pz-WIKsazi2J"
      }
    },
    {
      "cell_type": "code",
      "source": [
        "import os\n",
        "import cv2\n",
        "import numpy as np\n",
        "import tensorflow as tf\n",
        "\n",
        "from matplotlib import pyplot as plt"
      ],
      "metadata": {
        "id": "_3GtI6rTzlkV"
      },
      "execution_count": 1,
      "outputs": []
    },
    {
      "cell_type": "markdown",
      "source": [
        "Function: Dataset to numpy"
      ],
      "metadata": {
        "id": "R021n9Jfz9WI"
      }
    },
    {
      "cell_type": "code",
      "source": [
        "def dataset_to_numpy(dataset, batch_size=0, N=0):\n",
        "\n",
        "  take_dataset = dataset.shuffle(1024) # take first '1024' data, put into buffer, & randomly shuffle the data\n",
        "\n",
        "  if batch_size > 0:\n",
        "    take_dataset = take_dataset.batch(batch_size) # groups dataset elements into batches of size 'batch_size'\n",
        "\n",
        "  if N > 0:\n",
        "    take_dataset = take_dataset.take(N) # take the first `N` element\n",
        "\n",
        "  print(f\"Executing eagerly: {tf.executing_eagerly()}\")\n",
        "  if tf.executing_eagerly():\n",
        "    ds_images, ds_bboxes = [], []\n",
        "    for img, bbox in take_dataset:\n",
        "      ds_images.append(img.numpy())\n",
        "      ds_bboxes.append(bbox.numpy())\n",
        "\n",
        "    return (np.array(ds_images, dtype=object),\n",
        "            np.array(ds_bboxes, dtype=object))"
      ],
      "metadata": {
        "id": "rx67dsOS0Fpy"
      },
      "execution_count": 4,
      "outputs": []
    }
  ]
}