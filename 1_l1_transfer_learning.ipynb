{
  "cells": [
    {
      "cell_type": "markdown",
      "metadata": {
        "id": "view-in-github",
        "colab_type": "text"
      },
      "source": [
        "<a href=\"https://colab.research.google.com/github/ricky-kiva/dl-deep-tf-cv-advanced/blob/main/1_l1_transfer_learning.ipynb\" target=\"_parent\"><img src=\"https://colab.research.google.com/assets/colab-badge.svg\" alt=\"Open In Colab\"/></a>"
      ]
    },
    {
      "cell_type": "markdown",
      "metadata": {
        "id": "fYJqjq66JVQQ"
      },
      "source": [
        "# **Transfer Learning (Cats vs. Dogs)**\n",
        "\n"
      ]
    },
    {
      "cell_type": "markdown",
      "metadata": {
        "id": "gjfMJAHPJVQR"
      },
      "source": [
        "Import libraries"
      ]
    },
    {
      "cell_type": "code",
      "execution_count": null,
      "metadata": {
        "id": "y23ucAFLoHop"
      },
      "outputs": [],
      "source": [
        "import os"
      ]
    },
    {
      "cell_type": "markdown",
      "source": [
        "Download dataset"
      ],
      "metadata": {
        "id": "3ESspJPHuUtb"
      }
    },
    {
      "cell_type": "code",
      "source": [
        "!wget --no-check-certificate \\\n",
        "    \"https://download.microsoft.com/download/3/E/1/3E1C3F21-ECDB-4869-8368-6DEBA77B919F/kagglecatsanddogs_5340.zip\" \\\n",
        "    -O \"/tmp/cats-and-dogs.zip\""
      ],
      "metadata": {
        "id": "m3vW4B5ouZyY"
      },
      "execution_count": null,
      "outputs": []
    },
    {
      "cell_type": "markdown",
      "source": [
        "Unzip dataset"
      ],
      "metadata": {
        "id": "CgxWgSSwujN6"
      }
    },
    {
      "cell_type": "code",
      "source": [
        "import zipfile\n",
        "\n",
        "local_zip = '/tmp/cats-and-dogs.zip'\n",
        "zip_ref = zipfile.ZipFile(local_zip, 'r')\n",
        "zip_ref.extractall('/tmp')\n",
        "zip_ref.close()"
      ],
      "metadata": {
        "id": "n7yfSwg4uneA"
      },
      "execution_count": null,
      "outputs": []
    },
    {
      "cell_type": "markdown",
      "source": [
        "Referencing source path"
      ],
      "metadata": {
        "id": "GIZbZvmovH-Y"
      }
    },
    {
      "cell_type": "code",
      "source": [
        "DIR_SOURCE = '/tmp/PetImages'\n",
        "\n",
        "DIR_SOURCE_CAT = os.path.join(DIR_SOURCE, 'Cat')\n",
        "DIR_SOURCE_DOG = os.path.join(DIR_SOURCE, 'Dog')"
      ],
      "metadata": {
        "id": "TLnDkhQdvKty"
      },
      "execution_count": null,
      "outputs": []
    },
    {
      "cell_type": "markdown",
      "source": [
        "Data exploration: check number of samples\n",
        "\n",
        "Expected:\n",
        "- Cat: 12501\n",
        "- Dog: 12501"
      ],
      "metadata": {
        "id": "RHjsKVpAvmVO"
      }
    },
    {
      "cell_type": "code",
      "source": [
        "print(f\"There are {len(os.listdir(DIR_SOURCE_CAT))} images of cat.\")\n",
        "print(f\"There are {len(os.listdir(DIR_SOURCE_DOG))} images of dogs.\")"
      ],
      "metadata": {
        "id": "_U80Zje2vqJs"
      },
      "execution_count": null,
      "outputs": []
    },
    {
      "cell_type": "markdown",
      "source": [
        "Create directories to store *training* & *test* data"
      ],
      "metadata": {
        "id": "ksS3y00iwg5v"
      }
    },
    {
      "cell_type": "code",
      "source": [
        "try:\n",
        "    os.mkdir('/tmp/cats-v-dogs')\n",
        "    os.mkdir('/tmp/cats-v-dogs/training')\n",
        "    os.mkdir('/tmp/cats-v-dogs/testing')\n",
        "    os.mkdir('/tmp/cats-v-dogs/training/cats')\n",
        "    os.mkdir('/tmp/cats-v-dogs/training/dogs')\n",
        "    os.mkdir('/tmp/cats-v-dogs/testing/cats')\n",
        "    os.mkdir('/tmp/cats-v-dogs/testing/dogs')\n",
        "except OSError:\n",
        "    pass"
      ],
      "metadata": {
        "id": "PHObMs2rwneL"
      },
      "execution_count": null,
      "outputs": []
    },
    {
      "cell_type": "markdown",
      "source": [
        "Referencing *train* & *test* directories"
      ],
      "metadata": {
        "id": "5BSqJdpM0Abd"
      }
    },
    {
      "cell_type": "code",
      "source": [
        "DIR_TRAIN = '/tmp/cats-v-dogs/training'\n",
        "DIR_TEST = '/tmp/cats-v-dogs/testing'\n",
        "\n",
        "DIR_TRAIN_CAT = os.path.join(DIR_TRAIN, 'cats')\n",
        "DIR_TRAIN_DOG = os.path.join(DIR_TRAIN, 'dogs')\n",
        "\n",
        "DIR_TEST_CAT = os.path.join(DIR_TEST, 'cats')\n",
        "DIR_TEST_DOG = os.path.join(DIR_TEST, 'dogs')"
      ],
      "metadata": {
        "id": "-q8llk_V0Kch"
      },
      "execution_count": null,
      "outputs": []
    },
    {
      "cell_type": "markdown",
      "source": [
        "Function: Split *training* & *test* set"
      ],
      "metadata": {
        "id": "PsyEKootxKLn"
      }
    },
    {
      "cell_type": "code",
      "source": [
        "import random\n",
        "from shutil import copyfile\n",
        "\n",
        "def split_data(SOURCE, TRAIN, TEST, SPLIT_SIZE):\n",
        "  files = []\n",
        "\n",
        "  for fn in os.listdir(SOURCE):\n",
        "    file_path = os.path.join(SOURCE, fn)\n",
        "    if os.path.getsize(file_path) > 0:\n",
        "      files.append(fn)\n",
        "    else:\n",
        "      print(fn + ' is zero length, so ignoring.')\n",
        "\n",
        "  train_length = int(len(files) * SPLIT_SIZE)\n",
        "  test_length = int(len(files) - train_length)\n",
        "\n",
        "  shuffled_set = random.sample(files, len(files))\n",
        "  train_set = shuffled_set[0:train_length]\n",
        "  test_set = shuffled_set[train_length:]\n",
        "\n",
        "  for fn in train_set:\n",
        "    train_file_path = os.path.join(SOURCE, fn)\n",
        "    destination = os.path.join(TRAIN, fn)\n",
        "    copyfile(train_file_path, destination)\n",
        "\n",
        "  for fn in test_set:\n",
        "    test_file_path = os.path.join(SOURCE, fn)\n",
        "    destination = os.path.join(TEST, fn)\n",
        "    copyfile(test_file_path, destination)"
      ],
      "metadata": {
        "id": "w3q2HOL-xQv6"
      },
      "execution_count": null,
      "outputs": []
    },
    {
      "cell_type": "markdown",
      "source": [
        "Split *train* & *test* set"
      ],
      "metadata": {
        "id": "-6Asb7c8z7gP"
      }
    },
    {
      "cell_type": "code",
      "source": [
        "SPLIT_SIZE = .9\n",
        "\n",
        "split_data(DIR_SOURCE_CAT, DIR_TRAIN_CAT, DIR_TEST_CAT, SPLIT_SIZE)\n",
        "split_data(DIR_SOURCE_DOG, DIR_TRAIN_DOG, DIR_TEST_DOG, SPLIT_SIZE)"
      ],
      "metadata": {
        "id": "4_vyPpfJ1W1q"
      },
      "execution_count": null,
      "outputs": []
    },
    {
      "cell_type": "markdown",
      "source": [
        "Data exploration: Check *train* & *test* set length\n",
        "\n",
        "Expected:\n",
        "- Train Cat: 11250\n",
        "- Train Dog: 11250\n",
        "- Test Cat: 1250\n",
        "- Test Dog: 1250"
      ],
      "metadata": {
        "id": "wMpxM1S04F-Y"
      }
    },
    {
      "cell_type": "code",
      "execution_count": null,
      "metadata": {
        "id": "cl8sQpM1O9xK"
      },
      "outputs": [],
      "source": [
        "print(\"Number of training cat images\", len(os.listdir(DIR_TRAIN_CAT)))\n",
        "print(\"Number of training dog images\", len(os.listdir(DIR_TRAIN_DOG)))\n",
        "print(\"Number of testing cat images\", len(os.listdir(DIR_TEST_CAT)))\n",
        "print(\"Number of testing dog images\", len(os.listdir(DIR_TEST_DOG)))"
      ]
    },
    {
      "cell_type": "markdown",
      "source": [
        "Data augmentation"
      ],
      "metadata": {
        "id": "ha-uHgOW7aHz"
      }
    },
    {
      "cell_type": "code",
      "source": [
        "from tensorflow.keras.preprocessing.image import ImageDataGenerator\n",
        "\n",
        "train_datagen = ImageDataGenerator(rescale=1./255,\n",
        "                                   rotation_range=40,\n",
        "                                   width_shift_range=0.2,\n",
        "                                   height_shift_range=0.2,\n",
        "                                   shear_range=0.2,\n",
        "                                   zoom_range=0.2,\n",
        "                                   horizontal_flip=True,\n",
        "                                   fill_mode='nearest')\n",
        "\n",
        "train_generator = train_datagen.flow_from_directory(DIR_TRAIN,\n",
        "                                                    batch_size=100,\n",
        "                                                    class_mode='binary',\n",
        "                                                    target_size=(150, 150))\n",
        "\n",
        "validation_datagen = ImageDataGenerator(rescale=1./255)\n",
        "\n",
        "validation_generator = validation_datagen.flow_from_directory(DIR_TEST,\n",
        "                                                              batch_size=100,\n",
        "                                                              class_mode='binary',\n",
        "                                                              target_size=(150, 150))"
      ],
      "metadata": {
        "id": "5ZRwvMRc7cCM"
      },
      "execution_count": null,
      "outputs": []
    },
    {
      "cell_type": "markdown",
      "source": [
        "Preparing `InceptionV3` pre-trained model\n",
        "\n",
        "Note:\n",
        "- freeze existing layer so they aren't trained on the downstream task (cats & dogs data)\n",
        "- get reference to last layer `mixed7`, so some layers could be added after this last layer"
      ],
      "metadata": {
        "id": "91_s5zHH8RBo"
      }
    },
    {
      "cell_type": "code",
      "source": [
        "from tensorflow.keras.applications.inception_v3 import InceptionV3\n",
        "import urllib.request\n",
        "\n",
        "weights_url = \"https://storage.googleapis.com/mledu-datasets/inception_v3_weights_tf_dim_ordering_tf_kernels_notop.h5\"\n",
        "weights_file = \"inception_v3.h5\"\n",
        "\n",
        "urllib.request.urlretrieve(weights_url, weights_file)\n",
        "\n",
        "# instantiate the model\n",
        "pre_trained_model = InceptionV3(input_shape=(150, 150, 3),\n",
        "                                include_top=False,\n",
        "                                weights=None)\n",
        "\n",
        "# load pre-trained weights\n",
        "pre_trained_model.load_weights(weights_file)\n",
        "\n",
        "# freeze the layers\n",
        "for layer in pre_trained_model.layers:\n",
        "  layer.trainable = False"
      ],
      "metadata": {
        "id": "wLmBa1Li8fDA"
      },
      "execution_count": null,
      "outputs": []
    },
    {
      "cell_type": "markdown",
      "source": [
        "Choose desired last layer (`mixed7`)\n",
        "\n",
        "Note. Couple of consideration not to use up to the last layer:\n",
        "- Layers become more specialized & detailed as it go deeper. If one's new task is somewhat related but not exactly the same, mixed7 would already capture lot of relevant information\n",
        "- Save train time"
      ],
      "metadata": {
        "id": "rhTKzrU--rVV"
      }
    },
    {
      "cell_type": "code",
      "source": [
        "last_layer = pre_trained_model.get_layer('mixed7')\n",
        "\n",
        "print('last layer output shape: ', last_layer.output_shape)\n",
        "last_output = last_layer.output"
      ],
      "metadata": {
        "id": "AMCZPa-E_JYX"
      },
      "execution_count": null,
      "outputs": []
    },
    {
      "cell_type": "markdown",
      "source": [
        "Add layers to train on Cats & Dogs data"
      ],
      "metadata": {
        "id": "mVnJoSVB_dkm"
      }
    },
    {
      "cell_type": "code",
      "source": [
        "from tensorflow.keras import Model\n",
        "from tensorflow.keras import layers\n",
        "\n",
        "# flatten output of last layer\n",
        "x = layers.Flatten()(last_output)\n",
        "# add fully connected layers\n",
        "x = layers.Dense(1024, activation='relu')(x)\n",
        "# add final sigmoid layer to classify\n",
        "x = layers.Dense(1, activation='sigmoid')(x)\n",
        "\n",
        "# concatenate 2 layer\n",
        "model = Model(pre_trained_model.input, x)"
      ],
      "metadata": {
        "id": "zJSyzn08_kx4"
      },
      "execution_count": null,
      "outputs": []
    },
    {
      "cell_type": "markdown",
      "source": [
        "Check concatenated model"
      ],
      "metadata": {
        "id": "Wvgq_rjJAU2v"
      }
    },
    {
      "cell_type": "code",
      "source": [
        "model.summary()"
      ],
      "metadata": {
        "id": "aGOpxXjhAYP3"
      },
      "execution_count": null,
      "outputs": []
    },
    {
      "cell_type": "markdown",
      "source": [
        "Set train parameters"
      ],
      "metadata": {
        "id": "aBBKfav6ArU8"
      }
    },
    {
      "cell_type": "code",
      "source": [
        "from tensorflow.keras.optimizers import RMSprop\n",
        "\n",
        "model.compile(optimizer=RMSprop(learning_rate=0.0001),\n",
        "              loss='binary_crossentropy',\n",
        "              metrics=['acc'])"
      ],
      "metadata": {
        "id": "MdCe-CvQAzvY"
      },
      "execution_count": null,
      "outputs": []
    },
    {
      "cell_type": "markdown",
      "source": [
        "Train the model"
      ],
      "metadata": {
        "id": "e4I0z-pBBOhU"
      }
    },
    {
      "cell_type": "code",
      "source": [
        "history = model.fit(train_generator,\n",
        "                    validation_data=validation_generator,\n",
        "                    epochs=5,\n",
        "                    verbose=1)"
      ],
      "metadata": {
        "id": "wLIcXQXHBQ2H"
      },
      "execution_count": null,
      "outputs": []
    },
    {
      "cell_type": "markdown",
      "source": [
        "Visualize *train* & *validation* accuracy"
      ],
      "metadata": {
        "id": "9iC45ESzBkrQ"
      }
    },
    {
      "cell_type": "code",
      "source": [
        "%matplotlib inline\n",
        "\n",
        "import matplotlib.image  as mpimg\n",
        "import matplotlib.pyplot as plt\n",
        "\n",
        "acc=history.history['acc']\n",
        "val_acc=history.history['val_acc']\n",
        "loss=history.history['loss']\n",
        "val_loss=history.history['val_loss']\n",
        "\n",
        "epochs=range(len(acc))\n",
        "\n",
        "plt.plot(epochs, acc, 'r', \"Training Accuracy\")\n",
        "plt.plot(epochs, val_acc, 'b', \"Validation Accuracy\")\n",
        "plt.title('Training and validation accuracy')\n",
        "plt.figure()"
      ],
      "metadata": {
        "id": "5HsZ7T5OBsRg"
      },
      "execution_count": null,
      "outputs": []
    },
    {
      "cell_type": "markdown",
      "metadata": {
        "id": "xKc_1Qm8JVQR"
      },
      "source": [
        "### Predict on a test image\n",
        "\n",
        "You can upload any image and have the model predict whether it's a dog or a cat.\n",
        "- Find an image of a dog or cat\n",
        "- Run the following code cell.  It will ask you to upload an image.\n",
        "- The model will print \"is a dog\" or \"is a cat\" depending on the model's prediction."
      ]
    },
    {
      "cell_type": "code",
      "execution_count": null,
      "metadata": {
        "id": "_0R9fsf4w29e"
      },
      "outputs": [],
      "source": [
        "import numpy as np\n",
        "from google.colab import files\n",
        "from keras.preprocessing import image\n",
        "\n",
        "uploaded = files.upload()\n",
        "\n",
        "for fn in uploaded.keys():\n",
        "\n",
        "    path = '/content/' + fn\n",
        "    img = image.load_img(path, target_size=(150, 150))\n",
        "    x = image.img_to_array(img)\n",
        "    x = np.expand_dims(x, axis=0)\n",
        "\n",
        "    image_tensor = np.vstack([x])\n",
        "    classes = model.predict(image_tensor)\n",
        "    print(classes)\n",
        "    print(classes[0])\n",
        "    if classes[0]>0.5:\n",
        "        print(fn + \" is a dog\")\n",
        "    else:\n",
        "        print(fn + \" is a cat\")"
      ]
    }
  ],
  "metadata": {
    "accelerator": "GPU",
    "colab": {
      "private_outputs": true,
      "provenance": [],
      "gpuType": "T4",
      "include_colab_link": true
    },
    "kernelspec": {
      "display_name": "Python 3",
      "name": "python3"
    },
    "language_info": {
      "codemirror_mode": {
        "name": "ipython",
        "version": 3
      },
      "file_extension": ".py",
      "mimetype": "text/x-python",
      "name": "python",
      "nbconvert_exporter": "python",
      "pygments_lexer": "ipython3",
      "version": "3.9.16"
    }
  },
  "nbformat": 4,
  "nbformat_minor": 0
}