{
  "nbformat": 4,
  "nbformat_minor": 0,
  "metadata": {
    "colab": {
      "provenance": [],
      "gpuType": "T4",
      "authorship_tag": "ABX9TyNy2pXUjR6ea1uUhq/gqXQa",
      "include_colab_link": true
    },
    "kernelspec": {
      "name": "python3",
      "display_name": "Python 3"
    },
    "language_info": {
      "name": "python"
    },
    "accelerator": "GPU"
  },
  "cells": [
    {
      "cell_type": "markdown",
      "metadata": {
        "id": "view-in-github",
        "colab_type": "text"
      },
      "source": [
        "<a href=\"https://colab.research.google.com/github/ricky-kiva/dl-deep-tf-cv-advanced/blob/main/1_l3_object_localization.ipynb\" target=\"_parent\"><img src=\"https://colab.research.google.com/assets/colab-badge.svg\" alt=\"Open In Colab\"/></a>"
      ]
    },
    {
      "cell_type": "markdown",
      "source": [
        "# **Object Localization**\n",
        "\n",
        "- We'll *classify* an image & *localize* by drawing bounding boxes around it\n",
        "\n",
        "- We'll use MNIST dataset that is synthesized (modified) in terms of:\n",
        "\n",
        "  - Placing each \"digit\" randomly on 75x75 blank canvas\n",
        "\n",
        "- Note: the bounding box prediction can be modelled as *regression task*, means the model will predict a numeric value (as opposed to a category)"
      ],
      "metadata": {
        "id": "LXEMQzD_tfcS"
      }
    },
    {
      "cell_type": "markdown",
      "source": [
        "Import libraries"
      ],
      "metadata": {
        "id": "7Cv76MIjupsM"
      }
    },
    {
      "cell_type": "code",
      "source": [
        "import os\n",
        "import PIL\n",
        "import numpy as np\n",
        "import tensorflow as tf\n",
        "\n",
        "from matplotlib import pyplot as plt"
      ],
      "metadata": {
        "id": "I3j8z_DGurZ7"
      },
      "execution_count": 1,
      "outputs": []
    },
    {
      "cell_type": "markdown",
      "source": [
        "Define visualization parameters"
      ],
      "metadata": {
        "id": "NLsvK_E9u8br"
      }
    },
    {
      "cell_type": "code",
      "source": [
        "im_width = 75\n",
        "im_height = 75\n",
        "normalized_coordinates = True"
      ],
      "metadata": {
        "id": "aTFlYMG2vFpS"
      },
      "execution_count": 2,
      "outputs": []
    },
    {
      "cell_type": "markdown",
      "source": [
        "Function: Draw bounding boxes on image array"
      ],
      "metadata": {
        "id": "PqYcw7y8vKri"
      }
    },
    {
      "cell_type": "code",
      "source": [
        "from PIL import ImageDraw\n",
        "\n",
        "def draw_bounding_boxes_on_image_array(img, boxes, color=[], thickness=1, box_str_list=()):\n",
        "  image_pil = PIL.Image.fromarray(img) # converts image (numpy) to PIL image object (to enable PIL manip.)\n",
        "\n",
        "  # copy-paste to non-destructive editing\n",
        "  # 'RGBA' add 'Alpha' channel\n",
        "  rgbimg = PIL.Image.new(\"RGBA\", image_pil.size) # create blank image with same size\n",
        "  rgbimg.paste(image_pil) # paste original image to the blank image\n",
        "\n",
        "  draw_bounding_boxes_on_image(rgbimg, boxes, color, thickness, box_str_list)\n",
        "  return np.array(rgbimg)\n",
        "\n",
        "def draw_bounding_boxes_on_image(img, boxes, color=[], thickness=1, box_str_list=()):\n",
        "  boxes_shape = boxes.shape\n",
        "  if not boxes_shape: # check whether it's an empty array\n",
        "    return\n",
        "\n",
        "  # check if it has 'pred' & 'actual' bboxes\n",
        "  # check if 'bboxes' has size of 4 (xmin, ymin, xmax, ymax)\n",
        "  if len(boxes_shape) != 2 or boxes_shape[1] != 4:\n",
        "    raise ValueError('Input must be of size [N, 4]')\n",
        "\n",
        "  # `boxes_shape` has `shape` of `(2, 4)`. It iterates over the bounding boxes (2)\n",
        "  for i in range(boxes_shape[0]):\n",
        "    draw_bounding_box_on_image(img, boxes[i, 1], boxes[i, 0], boxes[i, 3], boxes[i, 2],\n",
        "                               color[i], thickness, box_str_list[i])\n",
        "\n",
        "def draw_bounding_box_on_image(img, ymin, xmin, ymax, xmax, color='red', thickness=1, display_str=None, normalized_coordinates=True):\n",
        "  draw = PIL.ImageDraw.Draw(img) # create object that could draw on the image\n",
        "  im_width, im_height = img.size # retrieves width & height of the image\n",
        "\n",
        "  # calculate box coordinates\n",
        "  if normalized_coordinates:\n",
        "    (left, right, top, bottom) = ((xmin * im_width), (xmax * im_width),\n",
        "                                  (ymin * im_height), (ymax * im_height))\n",
        "  else:\n",
        "    (left, right, top, bottom) = (xmin, xmax, ymin, ymax)\n",
        "\n",
        "  # draw the bounding box\n",
        "  draw.line([(left, top), (left, bottom), (right, bottom), (right, top),(left, top)],\n",
        "            width=thickness,\n",
        "            fill=color)"
      ],
      "metadata": {
        "id": "uq4u4WXAvPbP"
      },
      "execution_count": 3,
      "outputs": []
    },
    {
      "cell_type": "markdown",
      "source": [
        "Set *Matplotlib* config"
      ],
      "metadata": {
        "id": "LIOkvqLH2I-M"
      }
    },
    {
      "cell_type": "code",
      "source": [
        "plt.rc('image', cmap='gray')\n",
        "plt.rc('grid', linewidth=0)\n",
        "plt.rc('xtick', top=False, bottom=False, labelsize='large')\n",
        "plt.rc('ytick', left=False, right=False, labelsize='large')\n",
        "plt.rc('axes', facecolor='F8F8F8', titlesize=\"large\", edgecolor='white')\n",
        "plt.rc('text', color='a8151a')\n",
        "plt.rc('figure', facecolor='F0F0F0')\n",
        "MATPLOTLIB_FONT_DIR = os.path.join(os.path.dirname(plt.__file__), \"mpl-data/fonts/ttf\")"
      ],
      "metadata": {
        "id": "PQmYAG3x2PDc"
      },
      "execution_count": 4,
      "outputs": []
    },
    {
      "cell_type": "markdown",
      "source": [
        "Detect hardware for deciding *Distribution Strategies*\n",
        "\n",
        "Note:\n",
        "- If TPU is available, use TPU Strategy. Otherwise:\n",
        "  - If `> 1` GPU is available, use Mirrored Strategy\n",
        "  - If only `1` GPU / CPU is available, use Default Strategy"
      ],
      "metadata": {
        "id": "u0Mius5q74dN"
      }
    },
    {
      "cell_type": "code",
      "source": [
        "try:\n",
        "  tpu = tf.distribute.cluster_resolver.TPUClusterResolver() # TPU detection\n",
        "except ValueError:\n",
        "  tpu = None\n",
        "  gpus = tf.config.experimental.list_logical_devices(\"GPU\")"
      ],
      "metadata": {
        "id": "IW2mzL7V8nUl"
      },
      "execution_count": 12,
      "outputs": []
    },
    {
      "cell_type": "markdown",
      "source": [
        "Select *Distribution Strategy*"
      ],
      "metadata": {
        "id": "cevBG_hO87mW"
      }
    },
    {
      "cell_type": "code",
      "source": [
        "if tpu:\n",
        "  tf.config.experimental_connect_to_cluster(tpu)\n",
        "  tf.tpu.experimental.initialize_tpu_system(tpu)\n",
        "\n",
        "  strategy = tf.distribute.experimental.TPUStrategy(tpu)\n",
        "  print('Running on TPU', tpu.cluster_spec().as_dict()['worker'])\n",
        "elif len(gpus) > 1:\n",
        "  strategy = tf.distribute.MirroredStrategy([gpu.name for gpu in gpus])\n",
        "  print('Running on multiple GPUs', [gpu.name for gpu in gpus])\n",
        "elif len(gpus) == 1:\n",
        "  strategy = tf.distribute.get_strategy()\n",
        "  print('Running on single GPU', gpus[0].name)\n",
        "else:\n",
        "  strategy = tf.distribute.get_strategy()\n",
        "  print('Running on CPU')\n",
        "\n",
        "print('Number of accelerators:', strategy.num_replicas_in_sync)"
      ],
      "metadata": {
        "colab": {
          "base_uri": "https://localhost:8080/"
        },
        "id": "0PjWFZeD8-iK",
        "outputId": "5af25ca1-e954-400e-9422-6b7f8f9f0540"
      },
      "execution_count": 13,
      "outputs": [
        {
          "output_type": "stream",
          "name": "stdout",
          "text": [
            "Running on single GPU /device:GPU:0\n",
            "Number of accelerators: 1\n"
          ]
        }
      ]
    },
    {
      "cell_type": "markdown",
      "source": [
        "Define *Global Batch Size* parameter\n",
        "\n",
        "Note:\n",
        "- Global batch size will be shared across all replicas by *tf.data.Dataset API*\n",
        "- Single TPU has 8 cores, means 8 replicas of the model will be distributed to each core\n",
        "- Best practice is to scale the batch size by the number of replicas (*Learning rate* should be increased as well)"
      ],
      "metadata": {
        "id": "Q3La4Gtr-Lus"
      }
    },
    {
      "cell_type": "code",
      "source": [
        "LOCAL_BATCH_SIZE = 64\n",
        "GLOBAL_BATCH_SIZE = LOCAL_BATCH_SIZE * strategy.num_replicas_in_sync"
      ],
      "metadata": {
        "id": "OdlNCb3H_tcO"
      },
      "execution_count": 14,
      "outputs": []
    },
    {
      "cell_type": "markdown",
      "source": [
        "Function: Transform each images by pasting it on 75x75 canvas at random location"
      ],
      "metadata": {
        "id": "vOIjUJCNLQzy"
      }
    },
    {
      "cell_type": "code",
      "source": [
        "def read_image_tfds(img, label):\n",
        "  # get random integers from 'uniform distribution'\n",
        "  # uniform distribution: (where every outcome has an equal chance of happening)\n",
        "  # `()` in `shape` param. denotes a scalar / tensor with zero dimensions (essentially, single number)\n",
        "  # params: (shape, minval, maxval, dtype)\n",
        "  # `48` max padding got from \"canvas - image_shape + 1 (0)\" (75-28)\n",
        "  xmin = tf.random.uniform((), 0, 48, dtype=tf.int32) # decide left padding\n",
        "  ymin = tf.random.uniform((), 0, 48, dtype=tf.int32) # decide top padding\n",
        "  img = tf.reshape(img, (28, 28, 1)) # reshape dataset image to shape (28,28) with single color channel\n",
        "\n",
        "  # params: (image, offset_height, offset_width, target_height, target_width)\n",
        "  img = tf.image.pad_to_bounding_box(img, ymin, xmin, 75, 75) # pad image with zeros to 'specified offset' until 'target dimension'\n",
        "  img = tf.cast(img, tf.float32) / 255.0 # cast tensor to a float\n",
        "\n",
        "  # find 'normalized' max & min coordinates (normalization makes it consistent regardless of the actual size of the canvas or image)\n",
        "  xmax = (xmin + 28) / 75\n",
        "  ymax = (ymin + 28) / 75\n",
        "  xmin = xmin / 75\n",
        "  ymin = ymin / 75\n",
        "\n",
        "  # `one_hot` convert label as list where one element is \"hot\" (set to 1) & the rest are \"cold\" (set to 0)\n",
        "  # - ex: tf.one_hot(3, 10) -> [0, 0, 0, 1, 0, 0, 0, 0, 0, 0]\n",
        "  return img, (tf.one_hot(label, 10), [xmin, ymin, xmax, ymax])\n",
        "# ..."
      ],
      "metadata": {
        "id": "UdHySOg1LfMJ"
      },
      "execution_count": 15,
      "outputs": []
    },
    {
      "cell_type": "markdown",
      "source": [
        "Function: Get train dataset"
      ],
      "metadata": {
        "id": "6KsVedryO3st"
      }
    },
    {
      "cell_type": "code",
      "source": [
        "import tensorflow_datasets as tfds\n",
        "\n",
        "def get_train_dataset():\n",
        "  # specify the operation inside this block will be distributed according to `strategy`\n",
        "  with strategy.scope():\n",
        "    # loads train MNIST dataset\n",
        "    # `as_supervised`: dataset is returned in format (input, label) pairs\n",
        "    # - Supervised Learning: train AI model in input-label manners\n",
        "    # `try_gcs` will try to load dataset from Google Cloud Storage (GCS) if it's not available locally\n",
        "    dataset = tfds.load('mnist', split='train', as_supervised=True, try_gcs=True)\n",
        "\n",
        "    # applies function `read_image_tfds()` to each element in the dataset\n",
        "    # `num_parallel_calls=16`: process up to 16 elements in parallel\n",
        "    dataset = dataset.map(read_image_tfds, num_parallel_calls=16)\n",
        "\n",
        "    # params: (buffer size, reshuffle_each_iteration)\n",
        "    # `reshuffle_each_iteration`: if `.repeat()` executed, dataset will be shuffled again\n",
        "    dataset = dataset.shuffle(5000, reshuffle_each_iteration=True) # take first '5000' data, put into buffer, & randomly shuffle the data\n",
        "\n",
        "    # MANDATORY FOR KERAS\n",
        "    # repeats indefinitely. ensure dataset doesn't run out of data when training\n",
        "    dataset = dataset.repeat()\n",
        "\n",
        "    # groups dataset elements into batches of size GLOBAL_BATCH_SIZE\n",
        "    # `drop_remainder=True`: ensures all batches have same fixed size\n",
        "    # - important for training using TPU\n",
        "    dataset = dataset.batch(GLOBAL_BATCH_SIZE, drop_remainder=True)\n",
        "\n",
        "    # fetch (prepare) next batches while processing current batches\n",
        "    # params: (buffer_size). `-1` allows Tensorflow to automatically tune prefetch 'buffer size'\n",
        "    dataset = dataset.prefetch(-1)\n",
        "\n",
        "    return dataset"
      ],
      "metadata": {
        "id": "lHuFJbw7O6-v"
      },
      "execution_count": 16,
      "outputs": []
    },
    {
      "cell_type": "markdown",
      "source": [
        "Function: Get validation dataset"
      ],
      "metadata": {
        "id": "9uva7k4sK3Id"
      }
    },
    {
      "cell_type": "code",
      "source": [
        "def get_validation_dataset():\n",
        "  dataset = tfds.load('mnist', split='test', as_supervised=True, try_gcs=True)\n",
        "  dataset = dataset.map(read_image_tfds, num_parallel_calls=16)\n",
        "\n",
        "  # why `batch()` first before `repeat()` in validation?\n",
        "  # - `batch()` sets the size of each step of validation\n",
        "  # - `repeat()` allows multiple epochs of validation without manual intervention\n",
        "  dataset = dataset.batch(10000, drop_remainder=True)\n",
        "  dataset = dataset.repeat() # MANDATORY FOR KERAS\n",
        "  return dataset"
      ],
      "metadata": {
        "id": "53Rijwd-K6VM"
      },
      "execution_count": 17,
      "outputs": []
    },
    {
      "cell_type": "markdown",
      "source": [
        "Instantiate dataset"
      ],
      "metadata": {
        "id": "J6GakjTHOoRE"
      }
    },
    {
      "cell_type": "code",
      "source": [
        "with strategy.scope():\n",
        "  train_dataset = get_train_dataset()\n",
        "  validation_dataset = get_validation_dataset()"
      ],
      "metadata": {
        "id": "T5JDtgAFOpYA"
      },
      "execution_count": 18,
      "outputs": []
    },
    {
      "cell_type": "markdown",
      "source": [
        "Function: Pull some data from dataset with numpy format"
      ],
      "metadata": {
        "id": "V6h8IOXv2ToU"
      }
    },
    {
      "cell_type": "code",
      "source": [
        "# pull `N` data from dataset with numpy format\n",
        "def dataset_to_numpy(train_dataset, validation_dataset, N):\n",
        "\n",
        "  # Unbatch & re-batch train dataset, with a new batch size of `N`\n",
        "  batch_train_ds = train_dataset.unbatch().batch(N)\n",
        "\n",
        "  print(f\"Executing eagerly: {tf.executing_eagerly()}\")\n",
        "\n",
        "  if tf.executing_eagerly():\n",
        "    # (image, (one-hot-label, bboxes))\n",
        "    for validation_img, (validation_labels, validation_bboxes) in validation_dataset:\n",
        "      validation_img = validation_img.numpy()\n",
        "      validation_labels = validation_labels.numpy()\n",
        "      validation_bboxes = validation_bboxes.numpy()\n",
        "      break\n",
        "\n",
        "    for train_img, (train_labels, train_bboxes) in batch_train_ds:\n",
        "      train_img = train_img.numpy()\n",
        "      train_labels = train_labels.numpy()\n",
        "      train_bboxes = train_bboxes.numpy()\n",
        "      break\n",
        "\n",
        "  # convert one-hot-encoded list to integer label\n",
        "  validation_labels = np.argmax(validation_labels, axis=1)\n",
        "  train_labels = np.argmax(train_labels, axis=1)\n",
        "\n",
        "  return (train_img, train_labels, train_bboxes,\n",
        "          validation_img, validation_labels, validation_bboxes)"
      ],
      "metadata": {
        "id": "tYjEGIkn2uuz"
      },
      "execution_count": 20,
      "outputs": []
    },
    {
      "cell_type": "markdown",
      "source": [
        "Function: Display digit images with box"
      ],
      "metadata": {
        "id": "nwx5lCzKYc5H"
      }
    },
    {
      "cell_type": "code",
      "source": [
        "def display_digits_with_boxes(digits, predictions, labels, pred_bboxes, bboxes, iou, title):\n",
        "\n",
        "  n = 10\n",
        "  iou_threshold = 0.6\n",
        "\n",
        "  # make n-number list of random indexes from `predictions`'s length\n",
        "  indexes = np.random.choice(len(predictions), size=n)\n",
        "\n",
        "  # select digit images, predictions, & labels for the chosen indexes\n",
        "  n_digits = digits[indexes]\n",
        "  n_predictions = predictions[indexes]\n",
        "  n_labels = labels[indexes]\n",
        "\n",
        "  n_iou = [] # safety measure if `len(iou) < 0`\n",
        "  if len(iou) > 0:\n",
        "    n_iou = iou[indexes]\n",
        "\n",
        "  if len(pred_bboxes) > 0:\n",
        "    n_pred_bboxes = pred_bboxes[indexes, :] # `:` for taking the whole row of bboxes\n",
        "\n",
        "  if len(bboxes) > 0:\n",
        "    n_bboxes = bboxes[indexes, :]\n",
        "\n",
        "  n_digits = n_digits * 255.0 # reverse normalization (scale back)\n",
        "  n_digits = n_digits.reshape(n, 75, 75) # 10 images of 75x75 size\n",
        "\n",
        "  fig = plt.figure(figsize=(20, 4)) # make new figure\n",
        "  plt.title(title)\n",
        "  plt.yticks([]) # disable ticks\n",
        "  plt.xticks([])\n",
        "\n",
        "  for i in range(10):\n",
        "    ax = fig.add_subplot(1, n, (i+1)) # (row, column, subplot location)\n",
        "\n",
        "    # assign 'bboxes' to 'bboxes_to_plot' array\n",
        "    bboxes_to_plot = []\n",
        "    if len(pred_bboxes) > i:\n",
        "      bboxes_to_plot.append(n_pred_bboxes[i])\n",
        "\n",
        "    if len(bboxes) > i:\n",
        "      bboxes_to_plot.append(n_bboxes[i])\n",
        "\n",
        "    # draw bounding boxes\n",
        "    img_to_draw = draw_bounding_boxes_on_image_array(img=n_digits[i],\n",
        "                                                     boxes=np.asarray(bboxes_to_plot),\n",
        "                                                     color=['red', 'green'],\n",
        "                                                     box_str_list=['true', 'pred'])\n",
        "\n",
        "    plt.xlabel(n_predictions[i]) # assign x label to subplot\n",
        "    plt.xticks([])\n",
        "    plt.yticks([])\n",
        "\n",
        "    plt.imshow(img_to_draw) # show the image on subplot\n",
        "\n",
        "    # display IoU\n",
        "    if len(iou) > i:\n",
        "      color = 'black'\n",
        "      if (n_iou[i][0] < iou_threshold):\n",
        "        color = 'red'\n",
        "\n",
        "      # `ax.transAxes`: text positioning made relative to the axes\n",
        "      ax.text(0.2, -0.3, f\"iou: {round((n_iou[i][0]), 2)}\", color=color, transform=ax.transAxes)"
      ],
      "metadata": {
        "id": "UGBLBuNqYjO0"
      },
      "execution_count": 46,
      "outputs": []
    },
    {
      "cell_type": "markdown",
      "source": [
        "Get 10 samples from dataset, convert to numpy"
      ],
      "metadata": {
        "id": "yLE4qJxTPa8D"
      }
    },
    {
      "cell_type": "code",
      "source": [
        "(train_digits, train_labels, train_bboxes,\n",
        " validation_digits, validation_labels, validation_bboxes) = dataset_to_numpy(train_dataset, validation_dataset, 10)"
      ],
      "metadata": {
        "id": "UK-SNMjjPcZq",
        "colab": {
          "base_uri": "https://localhost:8080/"
        },
        "outputId": "0bac2553-084f-463e-c919-df292224e38c"
      },
      "execution_count": 22,
      "outputs": [
        {
          "output_type": "stream",
          "name": "stdout",
          "text": [
            "Executing eagerly: True\n"
          ]
        }
      ]
    },
    {
      "cell_type": "markdown",
      "source": [
        "Visualize 10 samples from dataset"
      ],
      "metadata": {
        "id": "yMIvYMD2ngna"
      }
    },
    {
      "cell_type": "code",
      "source": [
        "TITLE_TRAIN_DIGIT_DISPLAY = \"Train Digits & Labels\"\n",
        "TITLE_VALIDATION_DIGIT_DISPLAY = \"Validation Digits & Labels\""
      ],
      "metadata": {
        "id": "OooCd5strEiV"
      },
      "execution_count": 23,
      "outputs": []
    },
    {
      "cell_type": "code",
      "source": [
        "display_digits_with_boxes(train_digits, train_labels, train_labels, np.array([]), train_bboxes, np.array([]), TITLE_TRAIN_DIGIT_DISPLAY)\n",
        "display_digits_with_boxes(validation_digits, validation_labels, validation_labels, np.array([]), validation_bboxes, np.array([]), TITLE_VALIDATION_DIGIT_DISPLAY)"
      ],
      "metadata": {
        "colab": {
          "base_uri": "https://localhost:8080/",
          "height": 639
        },
        "id": "2cupdFQLnk_r",
        "outputId": "aa0eaf65-ef50-41fa-b0ca-4ea13608204f"
      },
      "execution_count": 25,
      "outputs": [
        {
          "output_type": "display_data",
          "data": {
            "text/plain": [
              "<Figure size 2000x400 with 11 Axes>"
            ],
            "image/png": "[encoded data removed]"
          },
          "metadata": {}
        },
        {
          "output_type": "display_data",
          "data": {
            "text/plain": [
              "<Figure size 2000x400 with 11 Axes>"
            ],
            "image/png": "[encoded data removed]"
          },
          "metadata": {}
        }
      ]
    },
    {
      "cell_type": "markdown",
      "source": [
        "Model: Defining feature extractor (convolutional layers to extract the features of the image)"
      ],
      "metadata": {
        "id": "9YfhJPkCts9t"
      }
    },
    {
      "cell_type": "code",
      "source": [
        "def feature_extractor(input):\n",
        "  # `16` is 'filters'/'kernel', the number of output 'features' extracted by this layer\n",
        "  # `kernel_size` is the pixel area when applying the filter to the input\n",
        "  x = tf.keras.layers.Conv2D(16, kernel_size=3, activation='relu', input_shape=(75, 75, 1))(input)\n",
        "\n",
        "  # use `AveragePooling2D` to avoid emphasis on extremely high values (so it does not full black)\n",
        "  # - instead, it is good for the sensitivity to all features\n",
        "  x = tf.keras.layers.AveragePooling2D((2,2))(x)\n",
        "\n",
        "  x = tf.keras.layers.Conv2D(32, kernel_size=3, activation='relu')(x)\n",
        "  x = tf.keras.layers.AveragePooling2D((2,2))(x)\n",
        "\n",
        "  x = tf.keras.layers.Conv2D(64, kernel_size=3, activation='relu')(x)\n",
        "  x = tf.keras.layers.AveragePooling2D((2,2))(x)\n",
        "\n",
        "  return x"
      ],
      "metadata": {
        "id": "P1LVaEQx6QTu"
      },
      "execution_count": 26,
      "outputs": []
    },
    {
      "cell_type": "markdown",
      "source": [
        "Model: Defining fully connected layers"
      ],
      "metadata": {
        "id": "-U7xIM8GA5FD"
      }
    },
    {
      "cell_type": "code",
      "source": [
        "def dense_layers(input):\n",
        "  x = tf.keras.layers.Flatten()(input)\n",
        "  x = tf.keras.layers.Dense(128, activation='relu')(x)\n",
        "\n",
        "  return x"
      ],
      "metadata": {
        "id": "Re6UWINpA8SX"
      },
      "execution_count": 27,
      "outputs": []
    },
    {
      "cell_type": "markdown",
      "source": [
        "Model: Defining Classifier (output layer to predicts among 10 categories)"
      ],
      "metadata": {
        "id": "3VsbZFs7BDX8"
      }
    },
    {
      "cell_type": "code",
      "source": [
        "def classifier(input):\n",
        "  classification_output = tf.keras.layers.Dense(10,\n",
        "                                                activation='softmax',\n",
        "                                                name='classification')(input)\n",
        "\n",
        "  return classification_output"
      ],
      "metadata": {
        "id": "xngBSym0BEDO"
      },
      "execution_count": 28,
      "outputs": []
    },
    {
      "cell_type": "markdown",
      "source": [
        "Model: Bounding Box Regression (predicts 4 numeric values of coordinates)"
      ],
      "metadata": {
        "id": "ECysFIbnBzam"
      }
    },
    {
      "cell_type": "code",
      "source": [
        "def bounding_box_regression(input):\n",
        "  # `units` to set `Dense` layer to output 4 values\n",
        "  bounding_box_regression_output = tf.keras.layers.Dense(units='4',\n",
        "                                                         name='bounding_box')(input)\n",
        "\n",
        "  return bounding_box_regression_output"
      ],
      "metadata": {
        "id": "I565OxnkB9M9"
      },
      "execution_count": 29,
      "outputs": []
    },
    {
      "cell_type": "markdown",
      "source": [
        "Model: Final Model"
      ],
      "metadata": {
        "id": "bt_K2ZnKCj2g"
      }
    },
    {
      "cell_type": "code",
      "source": [
        "def final_model(input):\n",
        "  feature_cnn = feature_extractor(input)\n",
        "  dense_output = dense_layers(feature_cnn)\n",
        "\n",
        "  # start of branching of the model\n",
        "  classification_output = classifier(dense_output)\n",
        "  bounding_box_output = bounding_box_regression(dense_output)\n",
        "\n",
        "  model = tf.keras.Model(inputs=input,\n",
        "                         outputs=[classification_output, bounding_box_output])\n",
        "\n",
        "  return model"
      ],
      "metadata": {
        "id": "QwbVhrHDCk4a"
      },
      "execution_count": 30,
      "outputs": []
    },
    {
      "cell_type": "markdown",
      "source": [
        "Model: Define & compile Model"
      ],
      "metadata": {
        "id": "HEoZ36NUDZPt"
      }
    },
    {
      "cell_type": "code",
      "source": [
        "def define_and_compile_model(input):\n",
        "  model = final_model(input)\n",
        "\n",
        "  model.compile(optimizer='adam',\n",
        "                loss={'classification': 'categorical_crossentropy',\n",
        "                      'bounding_box': 'mse'},\n",
        "                metrics={'classification': 'accuracy',\n",
        "                         'bounding_box': 'mse'})\n",
        "\n",
        "  return model"
      ],
      "metadata": {
        "id": "922PWD68Dbxx"
      },
      "execution_count": 31,
      "outputs": []
    },
    {
      "cell_type": "markdown",
      "source": [
        "Instantiate model"
      ],
      "metadata": {
        "id": "MpjN_BVsEUG7"
      }
    },
    {
      "cell_type": "code",
      "source": [
        "with strategy.scope():\n",
        "  inputs = tf.keras.layers.Input(shape=(75, 75, 1))\n",
        "  model = define_and_compile_model(inputs)\n",
        "\n",
        "model.summary()"
      ],
      "metadata": {
        "colab": {
          "base_uri": "https://localhost:8080/"
        },
        "id": "iOTstiAhEWGi",
        "outputId": "cfe7ab53-78b4-450c-ceaf-3a9aa1dbc649"
      },
      "execution_count": 32,
      "outputs": [
        {
          "output_type": "stream",
          "name": "stdout",
          "text": [
            "Model: \"model\"\n",
            "__________________________________________________________________________________________________\n",
            " Layer (type)                Output Shape                 Param #   Connected to                  \n",
            "==================================================================================================\n",
            " input_1 (InputLayer)        [(None, 75, 75, 1)]          0         []                            \n",
            "                                                                                                  \n",
            " conv2d (Conv2D)             (None, 73, 73, 16)           160       ['input_1[0][0]']             \n",
            "                                                                                                  \n",
            " average_pooling2d (Average  (None, 36, 36, 16)           0         ['conv2d[0][0]']              \n",
            " Pooling2D)                                                                                       \n",
            "                                                                                                  \n",
            " conv2d_1 (Conv2D)           (None, 34, 34, 32)           4640      ['average_pooling2d[0][0]']   \n",
            "                                                                                                  \n",
            " average_pooling2d_1 (Avera  (None, 17, 17, 32)           0         ['conv2d_1[0][0]']            \n",
            " gePooling2D)                                                                                     \n",
            "                                                                                                  \n",
            " conv2d_2 (Conv2D)           (None, 15, 15, 64)           18496     ['average_pooling2d_1[0][0]'] \n",
            "                                                                                                  \n",
            " average_pooling2d_2 (Avera  (None, 7, 7, 64)             0         ['conv2d_2[0][0]']            \n",
            " gePooling2D)                                                                                     \n",
            "                                                                                                  \n",
            " flatten (Flatten)           (None, 3136)                 0         ['average_pooling2d_2[0][0]'] \n",
            "                                                                                                  \n",
            " dense (Dense)               (None, 128)                  401536    ['flatten[0][0]']             \n",
            "                                                                                                  \n",
            " classification (Dense)      (None, 10)                   1290      ['dense[0][0]']               \n",
            "                                                                                                  \n",
            " bounding_box (Dense)        (None, 4)                    516       ['dense[0][0]']               \n",
            "                                                                                                  \n",
            "==================================================================================================\n",
            "Total params: 426638 (1.63 MB)\n",
            "Trainable params: 426638 (1.63 MB)\n",
            "Non-trainable params: 0 (0.00 Byte)\n",
            "__________________________________________________________________________________________________\n"
          ]
        }
      ]
    },
    {
      "cell_type": "markdown",
      "source": [
        "Set train constants"
      ],
      "metadata": {
        "id": "4JjIK9jzEf_5"
      }
    },
    {
      "cell_type": "code",
      "source": [
        "EPOCHS = 4\n",
        "STEPS_PER_EPOCH = 60000 / GLOBAL_BATCH_SIZE # 60.000 items in the dataset\n",
        "VALIDATION_STEPS = 1\n",
        "\n",
        "history = model.fit(train_dataset,\n",
        "                    steps_per_epoch=STEPS_PER_EPOCH,\n",
        "                    validation_data=validation_dataset,\n",
        "                    validation_steps=VALIDATION_STEPS,\n",
        "                    epochs=EPOCHS)"
      ],
      "metadata": {
        "id": "P9nZtJ54GmFr",
        "colab": {
          "base_uri": "https://localhost:8080/"
        },
        "outputId": "b9e807fa-e142-4e90-9120-811fd2c871f7"
      },
      "execution_count": 35,
      "outputs": [
        {
          "output_type": "stream",
          "name": "stdout",
          "text": [
            "Epoch 1/4\n",
            "937/937 [==============================] - 13s 13ms/step - loss: 0.1262 - classification_loss: 0.1241 - bounding_box_loss: 0.0020 - classification_accuracy: 0.9614 - bounding_box_mse: 0.0020 - val_loss: 0.1005 - val_classification_loss: 0.0987 - val_bounding_box_loss: 0.0018 - val_classification_accuracy: 0.9684 - val_bounding_box_mse: 0.0018\n",
            "Epoch 2/4\n",
            "937/937 [==============================] - 13s 13ms/step - loss: 0.1108 - classification_loss: 0.1091 - bounding_box_loss: 0.0016 - classification_accuracy: 0.9657 - bounding_box_mse: 0.0016 - val_loss: 0.0821 - val_classification_loss: 0.0808 - val_bounding_box_loss: 0.0013 - val_classification_accuracy: 0.9751 - val_bounding_box_mse: 0.0013\n",
            "Epoch 3/4\n",
            "937/937 [==============================] - 12s 13ms/step - loss: 0.0959 - classification_loss: 0.0945 - bounding_box_loss: 0.0015 - classification_accuracy: 0.9703 - bounding_box_mse: 0.0015 - val_loss: 0.0736 - val_classification_loss: 0.0722 - val_bounding_box_loss: 0.0014 - val_classification_accuracy: 0.9782 - val_bounding_box_mse: 0.0014\n",
            "Epoch 4/4\n",
            "937/937 [==============================] - 12s 13ms/step - loss: 0.0884 - classification_loss: 0.0871 - bounding_box_loss: 0.0013 - classification_accuracy: 0.9734 - bounding_box_mse: 0.0013 - val_loss: 0.0768 - val_classification_loss: 0.0755 - val_bounding_box_loss: 0.0013 - val_classification_accuracy: 0.9763 - val_bounding_box_mse: 0.0013\n"
          ]
        }
      ]
    },
    {
      "cell_type": "markdown",
      "source": [
        "Evaluate the model"
      ],
      "metadata": {
        "id": "j7IoFqZmGhqH"
      }
    },
    {
      "cell_type": "code",
      "source": [
        "(loss, classification_loss, bounding_box_loss,\n",
        " classification_accuracy, bounding_box_mse) = model.evaluate(validation_dataset, steps=VALIDATION_STEPS)\n",
        "\n",
        "print(f\"Validation accuracy: {classification_accuracy}\")"
      ],
      "metadata": {
        "id": "bWxUpGysHKyr",
        "colab": {
          "base_uri": "https://localhost:8080/"
        },
        "outputId": "86c53232-7573-4623-d697-f79c6ca221e7"
      },
      "execution_count": 36,
      "outputs": [
        {
          "output_type": "stream",
          "name": "stdout",
          "text": [
            "1/1 [==============================] - 1s 1s/step - loss: 0.0794 - classification_loss: 0.0781 - bounding_box_loss: 0.0013 - classification_accuracy: 0.9760 - bounding_box_mse: 0.0013\n",
            "Validation accuracy: 0.9760000109672546\n"
          ]
        }
      ]
    },
    {
      "cell_type": "markdown",
      "source": [
        "Function: Plot Metrics"
      ],
      "metadata": {
        "id": "jlCZm4SgHkZv"
      }
    },
    {
      "cell_type": "code",
      "source": [
        "def plot_metrics(metric_name, title, ylim=1):\n",
        "  plt.title(title)\n",
        "  plt.ylim(0, ylim)\n",
        "  plt.plot(history.history[metric_name], color='blue', label=metric_name)\n",
        "  plt.plot(history.history[f\"val_{metric_name}\"], color='green', label=f\"val_{metric_name}\")"
      ],
      "metadata": {
        "id": "vDbUwYVQH48A"
      },
      "execution_count": 48,
      "outputs": []
    },
    {
      "cell_type": "markdown",
      "source": [
        "Plot Classification Loss"
      ],
      "metadata": {
        "id": "XGWnAqNXIk7-"
      }
    },
    {
      "cell_type": "code",
      "source": [
        "plot_metrics('classification_loss', 'Classification Loss')"
      ],
      "metadata": {
        "id": "B4tBSMl5L4Pu",
        "colab": {
          "base_uri": "https://localhost:8080/",
          "height": 456
        },
        "outputId": "1b8d7612-e108-44a0-ad2d-bf5e812107a9"
      },
      "execution_count": 49,
      "outputs": [
        {
          "output_type": "display_data",
          "data": {
            "text/plain": [
              "<Figure size 640x480 with 1 Axes>"
            ],
            "image/png": "[encoded data removed]"
          },
          "metadata": {}
        }
      ]
    },
    {
      "cell_type": "markdown",
      "source": [
        "Plot Classification Accuracy"
      ],
      "metadata": {
        "id": "DiQgZjPNJPYS"
      }
    },
    {
      "cell_type": "code",
      "source": [
        "plot_metrics('classification_accuracy', 'Accuracy')"
      ],
      "metadata": {
        "id": "geXs8OrAJQ4G",
        "colab": {
          "base_uri": "https://localhost:8080/",
          "height": 456
        },
        "outputId": "0d9126fb-ec40-407d-8069-1cbfe9ac50c4"
      },
      "execution_count": 50,
      "outputs": [
        {
          "output_type": "display_data",
          "data": {
            "text/plain": [
              "<Figure size 640x480 with 1 Axes>"
            ],
            "image/png": "[encoded data removed]"
          },
          "metadata": {}
        }
      ]
    },
    {
      "cell_type": "markdown",
      "source": [
        "Plot Bounding Box Loss"
      ],
      "metadata": {
        "id": "Cf-KyyCyMJKE"
      }
    },
    {
      "cell_type": "code",
      "source": [
        "plot_metrics('bounding_box_loss', 'Bounding Box Loss')"
      ],
      "metadata": {
        "id": "182i7RRsImuo",
        "colab": {
          "base_uri": "https://localhost:8080/",
          "height": 456
        },
        "outputId": "737cacab-81e4-4938-a302-6582a7864807"
      },
      "execution_count": 51,
      "outputs": [
        {
          "output_type": "display_data",
          "data": {
            "text/plain": [
              "<Figure size 640x480 with 1 Axes>"
            ],
            "image/png": "[encoded data removed]"
          },
          "metadata": {}
        }
      ]
    },
    {
      "cell_type": "markdown",
      "source": [
        "Plot Bounding Box MSE"
      ],
      "metadata": {
        "id": "GYc4fVHLqHH3"
      }
    },
    {
      "cell_type": "code",
      "source": [
        "plot_metrics('bounding_box_mse', 'Bounding Box MSE')"
      ],
      "metadata": {
        "colab": {
          "base_uri": "https://localhost:8080/",
          "height": 456
        },
        "id": "nNKtUxzIqEtZ",
        "outputId": "6e172236-248e-4827-edd8-be5687a7f65f"
      },
      "execution_count": 52,
      "outputs": [
        {
          "output_type": "display_data",
          "data": {
            "text/plain": [
              "<Figure size 640x480 with 1 Axes>"
            ],
            "image/png": "[encoded data removed]"
          },
          "metadata": {}
        }
      ]
    },
    {
      "cell_type": "markdown",
      "source": [
        "Function: Intersection over Union"
      ],
      "metadata": {
        "id": "GRmdTp0BJZ14"
      }
    },
    {
      "cell_type": "code",
      "source": [
        "def intersection_over_union(pred_box, true_box):\n",
        "  # `np.split()`: split array into multiple sub-array\n",
        "  xmin_pred, ymin_pred, xmax_pred, ymax_pred = np.split(pred_box, 4, axis=1)\n",
        "  xmin_true, ymin_true, xmax_true, ymax_true = np.split(true_box, 4, axis=1)\n",
        "\n",
        "  smoothing_factor = 1e-10\n",
        "\n",
        "  # get intersection value for each x & y\n",
        "  xmin_overlap = np.maximum(xmin_pred, xmin_true)\n",
        "  xmax_overlap = np.minimum(xmax_pred, xmax_true)\n",
        "  ymin_overlap = np.maximum(ymin_pred, ymin_true)\n",
        "  ymax_overlap = np.minimum(ymax_pred, ymax_true)\n",
        "\n",
        "  # get area of prediction & true box\n",
        "  pred_box_area = (xmax_pred - xmin_pred) * (ymax_pred - ymin_pred)\n",
        "  true_box_area = (xmax_true - xmin_true) * (ymax_true - ymin_true)\n",
        "\n",
        "  # get overlapping area (intersection)\n",
        "  overlap_area = np.maximum((xmax_overlap - xmin_overlap), 0) * np.maximum((ymax_overlap - ymin_overlap), 0)\n",
        "\n",
        "  # get union area\n",
        "  union_area = (pred_box_area + true_box_area) - overlap_area\n",
        "\n",
        "  iou = (overlap_area + smoothing_factor) / (union_area + smoothing_factor)\n",
        "\n",
        "  return iou"
      ],
      "metadata": {
        "id": "7SL13A_1Jbjc"
      },
      "execution_count": 43,
      "outputs": []
    },
    {
      "cell_type": "markdown",
      "source": [
        "Visualize Predictions"
      ],
      "metadata": {
        "id": "eTESo_0gJTUv"
      }
    },
    {
      "cell_type": "code",
      "source": [
        "predictions = model.predict(validation_digits, batch_size=64)\n",
        "\n",
        "predicted_labels = np.argmax(predictions[0], axis=1)\n",
        "predicted_bboxes = predictions[1]\n",
        "\n",
        "iou_threshold = 0.6\n",
        "\n",
        "iou = intersection_over_union(predicted_bboxes, validation_bboxes)\n",
        "\n",
        "print(f\"IoU > threshold: {(iou >= iou_threshold).sum()}\")\n",
        "print(f\"IoU < threshold: {(iou < iou_threshold).sum()}\")\n",
        "\n",
        "display_digits_with_boxes(validation_digits,\n",
        "                          predicted_labels,\n",
        "                          validation_labels,\n",
        "                          predicted_bboxes,\n",
        "                          validation_bboxes,\n",
        "                          iou,\n",
        "                          \"True & Predicted Values\")"
      ],
      "metadata": {
        "id": "3pQib4k_NIgb",
        "colab": {
          "base_uri": "https://localhost:8080/",
          "height": 383
        },
        "outputId": "d498186e-f7b7-437c-a3bd-3c2a12a09907"
      },
      "execution_count": 47,
      "outputs": [
        {
          "output_type": "stream",
          "name": "stdout",
          "text": [
            "157/157 [==============================] - 1s 4ms/step\n",
            "IoU > threshold: 8990\n",
            "IoU < threshold: 1010\n"
          ]
        },
        {
          "output_type": "display_data",
          "data": {
            "text/plain": [
              "<Figure size 2000x400 with 11 Axes>"
            ],
            "image/png": "[encoded data removed]"
          },
          "metadata": {}
        }
      ]
    }
  ]
}