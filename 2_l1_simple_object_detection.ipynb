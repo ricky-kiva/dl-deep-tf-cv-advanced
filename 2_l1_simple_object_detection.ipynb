{
  "nbformat": 4,
  "nbformat_minor": 0,
  "metadata": {
    "colab": {
      "provenance": [],
      "authorship_tag": "ABX9TyPz6tcOzLw7+rioq30LDKsy",
      "include_colab_link": true
    },
    "kernelspec": {
      "name": "python3",
      "display_name": "Python 3"
    },
    "language_info": {
      "name": "python"
    }
  },
  "cells": [
    {
      "cell_type": "markdown",
      "metadata": {
        "id": "view-in-github",
        "colab_type": "text"
      },
      "source": [
        "<a href=\"https://colab.research.google.com/github/ricky-kiva/dl-deep-tf-cv-advanced/blob/main/2_l1_simple_object_detection.ipynb\" target=\"_parent\"><img src=\"https://colab.research.google.com/assets/colab-badge.svg\" alt=\"Open In Colab\"/></a>"
      ]
    },
    {
      "cell_type": "markdown",
      "source": [
        "# **Simple Object Detection in Tensorflow**"
      ],
      "metadata": {
        "id": "e_QP8UmO1U9x"
      }
    },
    {
      "cell_type": "markdown",
      "source": [
        "Import modules"
      ],
      "metadata": {
        "id": "MHRkdJvf2JvE"
      }
    },
    {
      "cell_type": "code",
      "source": [
        "import tempfile\n",
        "import tensorflow as tf"
      ],
      "metadata": {
        "id": "OaxTkaYG2NCo"
      },
      "execution_count": 21,
      "outputs": []
    },
    {
      "cell_type": "markdown",
      "source": [
        "Pick model from Tensorflow Hub (repository of trained ML models to be reused) to compare"
      ],
      "metadata": {
        "id": "4fC5IPJg2R1B"
      }
    },
    {
      "cell_type": "code",
      "source": [
        "# InceptionResNetV2\n",
        "module_handle = \"https://tfhub.dev/google/faster_rcnn/openimages_v4/inception_resnet_v2/1\"\n",
        "\n",
        "# MobileNetV2-SSD\n",
        "#module_handle = \"https://tfhub.dev/google/openimages_v4/ssd/mobilenet_v2/1\""
      ],
      "metadata": {
        "id": "wXRQS-g12dF_"
      },
      "execution_count": 2,
      "outputs": []
    },
    {
      "cell_type": "markdown",
      "source": [
        "Load the model"
      ],
      "metadata": {
        "id": "rJOeJJpo2xeB"
      }
    },
    {
      "cell_type": "code",
      "source": [
        "import tensorflow_hub as hub\n",
        "\n",
        "model = hub.load(module_handle)"
      ],
      "metadata": {
        "id": "RkQed8l_2zdJ"
      },
      "execution_count": 5,
      "outputs": []
    },
    {
      "cell_type": "markdown",
      "source": [
        "Check *model signature* (shortly, tasks that could be done by the model. thoroughly, represents named collection of input & output tensors)\n",
        "\n",
        "**Note:**\n",
        "- Some model like `MobileNetV2` has `> 1` signature (`classification` & `feature_vector`)\n",
        "- The output for `default` signature of `InceptionResNetV2`:\n",
        "  - Class entities (None, 1)\n",
        "  - Detection boxes (None, 4)\n",
        "  - Detection scores (None, 1)\n",
        "  - Class labels (None, 1)\n",
        "  - Class names (None, 1)\n",
        "    - **Note:** `None` in `shape` often indicates that the size of the dimension is not fixed (can vary), commonly used to represent `batch size`"
      ],
      "metadata": {
        "id": "mV_MnJl0c8SG"
      }
    },
    {
      "cell_type": "code",
      "source": [
        "model.signatures.keys()"
      ],
      "metadata": {
        "id": "zsYqnbRI27oI",
        "colab": {
          "base_uri": "https://localhost:8080/"
        },
        "outputId": "450b83e1-6b6c-4cc4-cb55-00e7d044b568"
      },
      "execution_count": 15,
      "outputs": [
        {
          "output_type": "execute_result",
          "data": {
            "text/plain": [
              "KeysView(_SignatureMap({'default': <ConcreteFunction () -> Dict[['detection_class_entities', TensorSpec(shape=(None, 1), dtype=tf.string, name=None)], ['detection_boxes', TensorSpec(shape=(None, 4), dtype=tf.float32, name=None)], ['detection_scores', TensorSpec(shape=(None, 1), dtype=tf.float32, name=None)], ['detection_class_labels', TensorSpec(shape=(None, 1), dtype=tf.int64, name=None)], ['detection_class_names', TensorSpec(shape=(None, 1), dtype=tf.string, name=None)]] at 0x7828FC2524A0>}))"
            ]
          },
          "metadata": {},
          "execution_count": 15
        }
      ]
    },
    {
      "cell_type": "markdown",
      "source": [
        "Picks model signature"
      ],
      "metadata": {
        "id": "B8UAz7h1dmds"
      }
    },
    {
      "cell_type": "code",
      "source": [
        "detector = model.signatures['default']"
      ],
      "metadata": {
        "id": "KM0FAkbxjQoQ"
      },
      "execution_count": 20,
      "outputs": []
    },
    {
      "cell_type": "markdown",
      "source": [
        "Check model input for this specific signature (`default`)\n",
        "\n",
        "**Note:** It accepts 1 batch of colored images (3 channel) with arbitrary width & height"
      ],
      "metadata": {
        "id": "dnEQ9nHsjkI5"
      }
    },
    {
      "cell_type": "code",
      "source": [
        "detector.inputs"
      ],
      "metadata": {
        "colab": {
          "base_uri": "https://localhost:8080/"
        },
        "id": "iDCHnKblkCvA",
        "outputId": "dca5171b-f439-4700-809c-edf7e7bd3847"
      },
      "execution_count": 19,
      "outputs": [
        {
          "output_type": "execute_result",
          "data": {
            "text/plain": [
              "[<tf.Tensor 'hub_input/image_tensor:0' shape=(1, None, None, 3) dtype=float32>]"
            ]
          },
          "metadata": {},
          "execution_count": 19
        }
      ]
    },
    {
      "cell_type": "markdown",
      "source": [
        "Function: download & resize image"
      ],
      "metadata": {
        "id": "_dzWs20okDMS"
      }
    },
    {
      "cell_type": "code",
      "source": [
        "from io import BytesIO\n",
        "from PIL import Image\n",
        "from PIL import ImageOps\n",
        "from six.moves.urllib.request import urlopen\n",
        "\n",
        "def download_and_resize_image(url, new_width=256, new_height=256):\n",
        "  _, filename = tempfile.mkstemp(suffix='.jpg') # make temp. file with '.jpg' suffix\n",
        "  response = urlopen(url) # opens given url\n",
        "\n",
        "  img_data = response.read() # reads image fetched from URL\n",
        "  img_data = BytesIO(img_data) # puts image data to memory buffer\n",
        "\n",
        "  pil_img = Image.open(img_data) # open image using PIL\n",
        "\n",
        "  # resizes the image. crop IF the aspect ratio is different\n",
        "  # `ANTIALIAS`: ensure anti-aliasing to produce smoother results WHEN downscaling the image\n",
        "  pil_img = ImageOps.fit(pil_img, (new_width, new_height), Image.ANTIALIAS)\n",
        "  pil_img_rgb = pil_img.convert('RGB')  # convert to RGB colorspace\n",
        "\n",
        "  pil_img_rgb.save(filename, format='JPEG', quality=90) # saves image to the temporary file\n",
        "\n",
        "  print(f\"Image saved to {filename}\")\n",
        "\n",
        "  return filename"
      ],
      "metadata": {
        "id": "_9BAe1z2m3CW"
      },
      "execution_count": 23,
      "outputs": []
    },
    {
      "cell_type": "markdown",
      "source": [
        "Download image for detection"
      ],
      "metadata": {
        "id": "go_Z5cPaqS6Q"
      }
    },
    {
      "cell_type": "code",
      "source": [
        "img_url = 'https://upload.wikimedia.org/wikipedia/commons/f/fb/20130807_dublin014.JPG'\n",
        "\n",
        "dl_img_path = download_and_resize_image(img_url, 2872, 2592)"
      ],
      "metadata": {
        "colab": {
          "base_uri": "https://localhost:8080/"
        },
        "id": "0yOTYVWGq1dr",
        "outputId": "4c6637ae-fbec-458b-f83e-52a0bb080bd1"
      },
      "execution_count": 26,
      "outputs": [
        {
          "output_type": "stream",
          "name": "stdout",
          "text": [
            "Image saved to /tmp/tmpjfhkzb5g.jpg\n"
          ]
        },
        {
          "output_type": "stream",
          "name": "stderr",
          "text": [
            "<ipython-input-23-ca356306ae14>:17: DeprecationWarning: ANTIALIAS is deprecated and will be removed in Pillow 10 (2023-07-01). Use LANCZOS or Resampling.LANCZOS instead.\n",
            "  pil_img = ImageOps.fit(pil_img, (new_width, new_height), Image.ANTIALIAS)\n"
          ]
        }
      ]
    },
    {
      "cell_type": "markdown",
      "source": [
        "Function: Load image, before passing to the model"
      ],
      "metadata": {
        "id": "JvStrhgIq8mt"
      }
    },
    {
      "cell_type": "code",
      "source": [
        "def load_img(path):\n",
        "  img = tf.io.read_file(path) # read the file\n",
        "  img = tf.image.decode_jpeg(img, channels=3) # convert image to tensor\n",
        "\n",
        "  return img"
      ],
      "metadata": {
        "id": "olXPBOUsrCb5"
      },
      "execution_count": 33,
      "outputs": []
    },
    {
      "cell_type": "markdown",
      "source": [
        "Function: Runs inference on local file using object detection model"
      ],
      "metadata": {
        "id": "BGcDRQCqrjXp"
      }
    },
    {
      "cell_type": "code",
      "source": [
        "def run_detector(detector, path):\n",
        "  img = load_img(path) # load image tensor from file path\n",
        "\n",
        "  # converts data type of image tensor's values (with pixel normalization by image pixel range ([0, 255]))\n",
        "  # - pixel normalization: if we got value 128 (range [0, 255]) -> (128/255) = 0.5\n",
        "  # `[tf.newaxis, ...]`: adds new axis (dimension) at the beginning of the tensor\n",
        "  converted_img = tf.image.convert_image_dtype(img, tf.float32)[tf.newaxis, ...]\n",
        "\n",
        "  # run inference using the model\n",
        "  result = detector(converted_img)\n",
        "\n",
        "  # save results in dictionary\n",
        "  result = {key:value.numpy() for key, value in result.items()}\n",
        "\n",
        "  print(f\"Found {len(result['detection_scores'])} objects.\")\n",
        "\n",
        "  print(result['detection_class_entities'])\n",
        "  print(result['detection_scores'])\n",
        "  print(result['detection_boxes'])"
      ],
      "metadata": {
        "id": "qW1qkWcdsNPq"
      },
      "execution_count": 34,
      "outputs": []
    },
    {
      "cell_type": "markdown",
      "source": [
        "Run inference using the model"
      ],
      "metadata": {
        "id": "m4pY1CQbvR8s"
      }
    },
    {
      "cell_type": "code",
      "source": [
        "run_detector(detector, dl_img_path)"
      ],
      "metadata": {
        "colab": {
          "base_uri": "https://localhost:8080/"
        },
        "id": "jEx9Vy3MvXNP",
        "outputId": "5bbe9715-c73e-46db-ffb1-c7224ae89957"
      },
      "execution_count": 35,
      "outputs": [
        {
          "output_type": "stream",
          "name": "stdout",
          "text": [
            "Found 100 objects.\n",
            "[b'Person' b'Person' b'Building' b'Person' b'Person' b'Building'\n",
            " b'Bicycle' b'Building' b'Wheel' b'Person' b'Person' b'Building' b'Person'\n",
            " b'Wheel' b'Building' b'Window' b'Bicycle wheel' b'Bicycle wheel'\n",
            " b'Person' b'Building' b'Land vehicle' b'Building' b'Window' b'Window'\n",
            " b'Land vehicle' b'Window' b'Person' b'Person' b'Person' b'Van' b'Man'\n",
            " b'Building' b'Man' b'Bicycle' b'Bus' b'Window' b'Clothing' b'Window'\n",
            " b'Person' b'Clothing' b'Person' b'Man' b'House' b'Bicycle' b'Person'\n",
            " b'Land vehicle' b'Person' b'Person' b'Clothing' b'Man' b'Land vehicle'\n",
            " b'Person' b'Person' b'Person' b'Land vehicle' b'Building' b'Person'\n",
            " b'Window' b'Clothing' b'Person' b'Person' b'House' b'Window' b'Person'\n",
            " b'Car' b'Wheel' b'Window' b'Person' b'Window' b'Window' b'Window'\n",
            " b'House' b'Land vehicle' b'Person' b'Clothing' b'Man' b'Woman' b'Vehicle'\n",
            " b'Window' b'Clothing' b'House' b'Person' b'Tire' b'Car' b'Furniture'\n",
            " b'Woman' b'Vehicle' b'Bicycle' b'Window' b'Clothing' b'Footwear'\n",
            " b'Person' b'Bicycle wheel' b'Person' b'Man' b'Clothing' b'Bicycle'\n",
            " b'Bicycle' b'Man' b'Tire']\n",
            "[0.80020636 0.6071506  0.5991996  0.53900605 0.53084546 0.5229039\n",
            " 0.52145684 0.43923032 0.43110222 0.3866665  0.36475202 0.3611095\n",
            " 0.33930746 0.32044244 0.310572   0.30001572 0.29554147 0.2751209\n",
            " 0.20060559 0.19129209 0.180489   0.17262726 0.16995554 0.16910002\n",
            " 0.16803047 0.16347036 0.1463529  0.14152473 0.12412994 0.11892439\n",
            " 0.11667934 0.10973774 0.10922345 0.10712255 0.10330074 0.10282736\n",
            " 0.10081165 0.09199306 0.08394188 0.08295467 0.08018476 0.07614151\n",
            " 0.07468079 0.073554   0.07167291 0.07117673 0.06991092 0.06383158\n",
            " 0.06247474 0.06193997 0.06113131 0.05681373 0.05645398 0.05574054\n",
            " 0.05540278 0.0551342  0.05479471 0.05394882 0.05319977 0.052372\n",
            " 0.05116755 0.04976238 0.0488249  0.04874087 0.04774575 0.04710804\n",
            " 0.04589872 0.04415315 0.04410206 0.04354282 0.04340511 0.04156244\n",
            " 0.04150169 0.04120061 0.04064122 0.04043909 0.03968077 0.0385535\n",
            " 0.03691674 0.03502359 0.03434509 0.03353754 0.03117906 0.02982647\n",
            " 0.02923244 0.02872517 0.02797493 0.02795783 0.02771118 0.02728952\n",
            " 0.02619719 0.02552114 0.02551789 0.02516955 0.02499191 0.02442777\n",
            " 0.02367263 0.02292679 0.02246866 0.02224333]\n",
            "[[5.20516992e-01 6.38793945e-01 6.46468937e-01 6.85961485e-01]\n",
            " [5.12754321e-01 5.43981612e-01 6.00693762e-01 5.71803093e-01]\n",
            " [0.00000000e+00 2.63690227e-03 6.89124763e-01 4.55312073e-01]\n",
            " [4.87269551e-01 3.88264835e-01 6.73063338e-01 4.50336307e-01]\n",
            " [5.04717827e-01 5.07286906e-01 6.00301862e-01 5.34692407e-01]\n",
            " [8.15964043e-02 3.84749025e-01 5.73261440e-01 5.87149978e-01]\n",
            " [5.79574943e-01 3.30353945e-01 7.12972701e-01 4.79919255e-01]\n",
            " [1.17223365e-02 7.62088895e-01 5.67379355e-01 9.26336884e-01]\n",
            " [6.30587399e-01 3.23523611e-01 7.05709219e-01 3.86035442e-01]\n",
            " [5.19135118e-01 6.05153918e-01 5.89718163e-01 6.32264733e-01]\n",
            " [5.00751734e-01 3.42365861e-01 6.47757113e-01 3.89403105e-01]\n",
            " [0.00000000e+00 8.98244977e-01 6.22255087e-01 9.97237206e-01]\n",
            " [5.16058326e-01 8.34554374e-01 5.91021299e-01 8.60310435e-01]\n",
            " [6.33489668e-01 4.30883646e-01 7.02259362e-01 4.84693915e-01]\n",
            " [2.70332038e-01 6.00612521e-01 5.21647692e-01 7.28714585e-01]\n",
            " [3.07540904e-04 4.82322276e-03 2.33865038e-01 9.10565034e-02]\n",
            " [6.32003427e-01 4.29586947e-01 7.02571094e-01 4.85999137e-01]\n",
            " [6.31913900e-01 3.20962638e-01 7.04315364e-01 3.86697084e-01]\n",
            " [5.09716272e-01 3.20460528e-01 6.30869448e-01 3.52454185e-01]\n",
            " [1.04301199e-02 8.26517586e-03 7.19396055e-01 1.85182363e-01]\n",
            " [5.86945176e-01 3.23334485e-01 7.10615993e-01 4.87141371e-01]\n",
            " [0.00000000e+00 8.50981176e-01 6.26995444e-01 9.86514628e-01]\n",
            " [1.26886070e-01 1.71179354e-01 2.76451647e-01 2.16908365e-01]\n",
            " [3.70778106e-02 3.12825501e-01 1.62594080e-01 3.38118076e-01]\n",
            " [4.83547270e-01 6.62668169e-01 5.64429641e-01 7.22039640e-01]\n",
            " [1.56608641e-01 4.31581527e-01 2.23180592e-01 4.72218186e-01]\n",
            " [5.12068450e-01 7.47957826e-01 5.50132513e-01 7.66201556e-01]\n",
            " [5.14800727e-01 8.43064606e-01 5.91236591e-01 8.64899576e-01]\n",
            " [5.13440371e-01 7.41959631e-01 5.52746713e-01 7.62986660e-01]\n",
            " [4.82521117e-01 6.62756741e-01 5.63397884e-01 7.24387467e-01]\n",
            " [4.88797665e-01 3.87942225e-01 6.75464153e-01 4.51073200e-01]\n",
            " [2.45603338e-01 6.44953072e-01 5.19949794e-01 7.59948075e-01]\n",
            " [5.03115773e-01 3.42238605e-01 6.49013698e-01 3.88678163e-01]\n",
            " [5.72719514e-01 3.23019564e-01 7.08441496e-01 3.93776059e-01]\n",
            " [4.79564071e-01 6.63787365e-01 5.63082159e-01 7.23006129e-01]\n",
            " [8.40173960e-02 3.56078386e-01 2.06095219e-01 3.85478169e-01]\n",
            " [5.25034130e-01 8.35598826e-01 5.83408594e-01 8.61378253e-01]\n",
            " [2.38697068e-03 2.49934837e-01 1.09797440e-01 2.86913276e-01]\n",
            " [5.04731953e-01 3.48720044e-01 5.95225930e-01 3.89568120e-01]\n",
            " [5.08101881e-01 3.93737257e-01 6.62257671e-01 4.50893790e-01]\n",
            " [5.07911205e-01 3.26622128e-01 6.13318205e-01 3.60346407e-01]\n",
            " [5.06241381e-01 5.07317603e-01 6.00532532e-01 5.34878433e-01]\n",
            " [0.00000000e+00 4.56388220e-02 6.68624341e-01 4.09671873e-01]\n",
            " [6.07375801e-01 4.17614371e-01 7.00596333e-01 4.92148489e-01]\n",
            " [4.77249503e-01 4.22257744e-02 5.59204340e-01 8.80539864e-02]\n",
            " [5.82883000e-01 3.14808041e-01 7.05455661e-01 4.20426279e-01]\n",
            " [5.24833262e-01 5.89265287e-01 5.78821957e-01 6.11975133e-01]\n",
            " [5.02859712e-01 3.38044345e-01 6.07395351e-01 3.83289754e-01]\n",
            " [5.17310917e-01 3.49393427e-01 5.87536931e-01 3.88637334e-01]\n",
            " [5.17822742e-01 8.34697723e-01 5.89136422e-01 8.62197697e-01]\n",
            " [6.07298315e-01 4.17221963e-01 7.04335630e-01 4.90940154e-01]\n",
            " [5.27128100e-01 5.97080588e-01 5.85742533e-01 6.17675602e-01]\n",
            " [5.25274634e-01 5.86170971e-01 5.84789097e-01 6.05392635e-01]\n",
            " [4.93406683e-01 3.24033409e-01 6.70769155e-01 3.80759001e-01]\n",
            " [5.71600378e-01 3.25551718e-01 7.09942520e-01 3.93303722e-01]\n",
            " [2.64615834e-01 7.07896650e-01 4.91888911e-01 7.59382010e-01]\n",
            " [5.14793217e-01 5.52474976e-01 5.98857343e-01 5.79656780e-01]\n",
            " [4.23015058e-01 9.43584800e-01 5.92031777e-01 9.94345486e-01]\n",
            " [5.15135229e-01 5.10798931e-01 5.92707932e-01 5.33735275e-01]\n",
            " [5.11255741e-01 5.33149123e-01 5.95771551e-01 5.66552877e-01]\n",
            " [5.13467371e-01 3.13685685e-01 6.30107403e-01 3.41912419e-01]\n",
            " [8.35476443e-02 3.78837943e-01 5.95485270e-01 5.82245767e-01]\n",
            " [6.25678059e-03 1.59208581e-01 5.12834005e-02 2.23804489e-01]\n",
            " [5.27548373e-01 6.00209475e-01 5.87955594e-01 6.26043439e-01]\n",
            " [5.21793783e-01 6.76386595e-01 5.61947167e-01 7.18268454e-01]\n",
            " [6.45108461e-01 4.19314772e-01 6.90638542e-01 4.48357970e-01]\n",
            " [1.06559824e-02 2.54520208e-01 1.00281142e-01 2.79018998e-01]\n",
            " [5.37541568e-01 6.25314474e-01 5.85128427e-01 6.49331629e-01]\n",
            " [0.00000000e+00 1.62473127e-01 6.46162257e-02 2.37365514e-01]\n",
            " [7.68681848e-03 9.13798094e-01 1.42387167e-01 9.56178665e-01]\n",
            " [2.16463327e-01 3.05919677e-01 3.47328544e-01 3.47234040e-01]\n",
            " [4.80911275e-03 1.11941686e-02 7.23369360e-01 1.81125656e-01]\n",
            " [5.18126369e-01 6.76358342e-01 5.60664356e-01 7.18313277e-01]\n",
            " [4.90071833e-01 3.90891552e-01 6.45442307e-01 4.29175258e-01]\n",
            " [5.34485400e-01 6.42480016e-01 6.35805368e-01 6.86150193e-01]\n",
            " [5.10415971e-01 3.21065247e-01 6.37499630e-01 3.58993828e-01]\n",
            " [5.18383682e-01 6.39279068e-01 6.47894025e-01 6.85261548e-01]\n",
            " [4.80860204e-01 6.60014093e-01 5.64795971e-01 7.24915743e-01]\n",
            " [3.05291079e-02 8.14680040e-01 1.17958121e-01 9.12062764e-01]\n",
            " [5.21521628e-01 5.43953300e-01 5.90697050e-01 5.68633735e-01]\n",
            " [2.70496100e-01 6.01137042e-01 5.32075107e-01 7.27103770e-01]\n",
            " [4.98495400e-01 4.32492316e-01 6.09927177e-01 4.63317275e-01]\n",
            " [6.27189457e-01 3.22484672e-01 7.03564644e-01 3.85992199e-01]\n",
            " [4.99489158e-01 6.70501769e-01 5.63259900e-01 7.22215891e-01]\n",
            " [5.70919096e-01 1.97342291e-01 6.56210423e-01 2.66276598e-01]\n",
            " [4.94012475e-01 3.86840701e-01 6.78231001e-01 4.53038037e-01]\n",
            " [5.82094967e-01 3.33735406e-01 7.21004784e-01 4.85427707e-01]\n",
            " [5.65607011e-01 3.39165151e-01 6.82573855e-01 3.99333298e-01]\n",
            " [3.42388041e-02 3.21812123e-01 1.69590279e-01 3.45744491e-01]\n",
            " [5.20384967e-01 3.21506679e-01 6.23726010e-01 3.51712614e-01]\n",
            " [6.28976345e-01 6.59837186e-01 6.45239055e-01 6.74715877e-01]\n",
            " [5.10831356e-01 5.23841619e-01 5.88571668e-01 5.43930471e-01]\n",
            " [6.43757641e-01 4.18737888e-01 6.92102373e-01 4.49919790e-01]\n",
            " [5.12307227e-01 7.54753947e-01 5.46849191e-01 7.68522739e-01]\n",
            " [5.12702227e-01 7.42378831e-01 5.51962018e-01 7.62708008e-01]\n",
            " [5.38279474e-01 8.34418058e-01 5.84569275e-01 8.55183601e-01]\n",
            " [5.73124707e-01 3.23980689e-01 6.68134809e-01 3.68304789e-01]\n",
            " [5.35913289e-01 4.40854728e-01 6.41552329e-01 4.77836996e-01]\n",
            " [5.11658311e-01 7.47965693e-01 5.49504578e-01 7.66148746e-01]\n",
            " [6.28197372e-01 4.26936418e-01 7.00834751e-01 4.81899470e-01]]\n"
          ]
        }
      ]
    }
  ]
}