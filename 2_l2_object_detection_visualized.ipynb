{
  "nbformat": 4,
  "nbformat_minor": 0,
  "metadata": {
    "colab": {
      "provenance": [],
      "authorship_tag": "ABX9TyOQgEmNGUU17mZOxoxR1pUf",
      "include_colab_link": true
    },
    "kernelspec": {
      "name": "python3",
      "display_name": "Python 3"
    },
    "language_info": {
      "name": "python"
    }
  },
  "cells": [
    {
      "cell_type": "markdown",
      "metadata": {
        "id": "view-in-github",
        "colab_type": "text"
      },
      "source": [
        "<a href=\"https://colab.research.google.com/github/ricky-kiva/dl-deep-tf-cv-advanced/blob/main/2_l2_object_detection_visualized.ipynb\" target=\"_parent\"><img src=\"https://colab.research.google.com/assets/colab-badge.svg\" alt=\"Open In Colab\"/></a>"
      ]
    },
    {
      "cell_type": "markdown",
      "source": [
        "# **Object Detection with Visualized Output**"
      ],
      "metadata": {
        "id": "YYm3E-2NxbBn"
      }
    },
    {
      "cell_type": "markdown",
      "source": [
        "Import packages"
      ],
      "metadata": {
        "id": "b7u0xl09xk0w"
      }
    },
    {
      "cell_type": "code",
      "source": [
        "import time\n",
        "import tempfile\n",
        "import numpy as np\n",
        "import tensorflow as tf\n",
        "import tensorflow_hub as hub\n",
        "\n",
        "import matplotlib.pyplot as plt"
      ],
      "metadata": {
        "id": "DxJKQpKuxodx"
      },
      "execution_count": 4,
      "outputs": []
    },
    {
      "cell_type": "markdown",
      "source": [
        "Pick model\n",
        "\n",
        "- `SSD + MobileNetV2`: small & fast\n",
        "- `Faster R-CNN + InceptionResNetV2`: high accuracy"
      ],
      "metadata": {
        "id": "0m9EDTTnyAad"
      }
    },
    {
      "cell_type": "code",
      "source": [
        "# SSD + MobileNetV2\n",
        "module_handle = \"https://tfhub.dev/google/openimages_v4/ssd/mobilenet_v2/1\"\n",
        "\n",
        "# Faster R-CNN + InceptionResNetV2\n",
        "#module_handle = \"https://tfhub.dev/google/faster_rcnn/openimages_v4/inception_resnet_v2/1\""
      ],
      "metadata": {
        "id": "XwrNKVLY2Vb-"
      },
      "execution_count": 3,
      "outputs": []
    },
    {
      "cell_type": "markdown",
      "source": [
        "Load the model"
      ],
      "metadata": {
        "id": "uw04gzwl20hf"
      }
    },
    {
      "cell_type": "code",
      "source": [
        "model = hub.load(module_handle)"
      ],
      "metadata": {
        "id": "zm6H1XrH2uC-"
      },
      "execution_count": 5,
      "outputs": []
    },
    {
      "cell_type": "markdown",
      "source": [
        "Check *model signature* (shortly, tasks that could be done by the model. thoroughly, represents named collection of input & output tensors)\n",
        "\n",
        "**Note:**\n",
        "- The output for `default` signature of `SSD + MobileNetV2`:\n",
        "  - Class Names (None, 1)\n",
        "  - Class Labels (None, 1)\n",
        "  - Detection Boxes (None, 4)\n",
        "  - Detection Scores (None, 1)\n",
        "  - Class Entities (None, 1)\n",
        "    - **Note:** `None` in `shape` indicates the size of the dimension is not fixed (can vary), commonly used to represent `batch size`"
      ],
      "metadata": {
        "id": "nz3rXPZg2_Ja"
      }
    },
    {
      "cell_type": "code",
      "source": [
        "model.signatures.keys()"
      ],
      "metadata": {
        "colab": {
          "base_uri": "https://localhost:8080/"
        },
        "id": "K0_12qy73AFZ",
        "outputId": "fc30b4e5-43f3-4b5f-c2bf-6a6541585987"
      },
      "execution_count": 6,
      "outputs": [
        {
          "output_type": "execute_result",
          "data": {
            "text/plain": [
              "KeysView(_SignatureMap({'default': <ConcreteFunction () -> Dict[['detection_class_names', TensorSpec(shape=(None, 1), dtype=tf.string, name=None)], ['detection_class_labels', TensorSpec(shape=(None, 1), dtype=tf.int64, name=None)], ['detection_boxes', TensorSpec(shape=(None, 4), dtype=tf.float32, name=None)], ['detection_scores', TensorSpec(shape=(None, 1), dtype=tf.float32, name=None)], ['detection_class_entities', TensorSpec(shape=(None, 1), dtype=tf.string, name=None)]] at 0x7ED180A57010>}))"
            ]
          },
          "metadata": {},
          "execution_count": 6
        }
      ]
    },
    {
      "cell_type": "markdown",
      "source": [
        "Pick model signature"
      ],
      "metadata": {
        "id": "SKVBPuly3D9k"
      }
    },
    {
      "cell_type": "code",
      "source": [
        "detector = model.signatures['default']"
      ],
      "metadata": {
        "id": "p5MStEc874mJ"
      },
      "execution_count": 8,
      "outputs": []
    },
    {
      "cell_type": "markdown",
      "source": [
        "Check model input for this specific signature (`default`)\n",
        "\n",
        "**Note:** It accepts multi-batch of colored images (3 channel) with arbitrary width & height"
      ],
      "metadata": {
        "id": "usnm-aIM79C8"
      }
    },
    {
      "cell_type": "code",
      "source": [
        "detector.inputs"
      ],
      "metadata": {
        "colab": {
          "base_uri": "https://localhost:8080/"
        },
        "id": "i74ZD66w8AzN",
        "outputId": "69cfdae6-c216-4019-8533-43edeb3d70a3"
      },
      "execution_count": 10,
      "outputs": [
        {
          "output_type": "execute_result",
          "data": {
            "text/plain": [
              "[<tf.Tensor 'hub_input/image_tensor:0' shape=(None, None, None, 3) dtype=float32>]"
            ]
          },
          "metadata": {},
          "execution_count": 10
        }
      ]
    },
    {
      "cell_type": "markdown",
      "source": [
        "Function: display an image"
      ],
      "metadata": {
        "id": "XK1e44Aa8CBb"
      }
    },
    {
      "cell_type": "code",
      "source": [
        "def display_image(img):\n",
        "  plt.figure(figsize=(20, 15))\n",
        "  plt.grid(False)\n",
        "  plt.imshow(img)"
      ],
      "metadata": {
        "id": "275aU0zo8YRz"
      },
      "execution_count": 11,
      "outputs": []
    },
    {
      "cell_type": "markdown",
      "source": [
        "Function: download & resize image"
      ],
      "metadata": {
        "id": "8qF7VhfR84Bw"
      }
    },
    {
      "cell_type": "code",
      "source": [
        "from io import BytesIO\n",
        "from PIL import Image\n",
        "from PIL import ImageOps\n",
        "from six.moves.urllib.request import urlopen\n",
        "\n",
        "def download_and_resize_image(url, new_width=256, new_height=256, display=False):\n",
        "  _, filename = tempfile.mkstemp(suffix='.jpg') # make temp. file with '.jpg' suffix\n",
        "\n",
        "  response = urlopen(url) # opens given url\n",
        "\n",
        "  img_data = response.read() # reads image fetched from URL\n",
        "  img_data = BytesIO(img_data) # puts image data to memory buffer\n",
        "\n",
        "  pil_img = Image.open(img_data) # open image using PIL\n",
        "\n",
        "  # resizes the image. crop IF the aspect ratio is different\n",
        "  # `Resampling.LANCZOS`: ensure high-quality interpolation during resizing operation\n",
        "  # - 'interpolation': estimation on pixel values at non-integer coordinates, based on known pixel values\n",
        "  # --- 'non-integer coordinates': also considers floating position (ex: 2.3, 4.7) who doesn't align with the exact pixel grid\n",
        "  pil_img = ImageOps.fit(pil_img, (new_width, new_height), Image.Resampling.LANCZOS)\n",
        "  pil_img_rgb = pil_img.convert('RGB')  # convert to RGB colorspace\n",
        "\n",
        "  pil_img_rgb.save(filename, format='JPEG', quality=90) # saves image to the temporary file\n",
        "\n",
        "  print(f\"Image saved to {filename}\")\n",
        "\n",
        "  if display:\n",
        "    display_image(pil_img)\n",
        "\n",
        "  return filename"
      ],
      "metadata": {
        "id": "yVmaMQ5-88by"
      },
      "execution_count": 12,
      "outputs": []
    },
    {
      "cell_type": "markdown",
      "source": [
        "Download image for detection"
      ],
      "metadata": {
        "id": "qN-TTU7N-QKc"
      }
    },
    {
      "cell_type": "code",
      "source": [
        "import ssl\n",
        "\n",
        "# create unverified SSL permission\n",
        "ssl._create_default_https_context = ssl._create_unverified_context\n",
        "\n",
        "img_url = 'https://backpanel.kemlu.go.id/PublishingImages/Foto_Berita/2021/praha%201sept21.jpg'\n",
        "\n",
        "dl_img_path = download_and_resize_image(img_url, 1996, 2000, True)"
      ],
      "metadata": {
        "id": "edcYA9LJ-Tco"
      },
      "execution_count": null,
      "outputs": []
    },
    {
      "cell_type": "code",
      "source": [
        "from PIL import ImageDraw\n",
        "\n",
        "def draw_bounding_box_on_image(img, ymin, xmin, ymax, xmax, color, font, thickness=4, display_str_list=()):\n",
        "  draw = ImageDraw.Draw(img) # instantiate ImageDraw object, enable drawing on image\n",
        "  im_width, im_height = img.size # get image width & height\n",
        "\n",
        "  # scale bounding box coordinates to height & width of the image\n",
        "  (left, right, top, bottom) = (xmin * im_width,\n",
        "                                xmax * im_width,\n",
        "                                ymin * im_height,\n",
        "                                ymax * im_height)\n",
        "\n",
        "  # draw the detection box\n",
        "  draw.line([(left, top), (left, bottom), (right, bottom), (right, top), (left, top)],\n",
        "            width=thickness, fill=color)"
      ],
      "metadata": {
        "id": "-moS01rV-ppm"
      },
      "execution_count": null,
      "outputs": []
    }
  ]
}